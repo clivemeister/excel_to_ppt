{
 "cells": [
  {
   "cell_type": "code",
   "execution_count": 1,
   "metadata": {},
   "outputs": [
    {
     "name": "stdout",
     "output_type": "stream",
     "text": [
      "Want to Learn More About\n",
      "Clustering sparse data with MiniBatchKMeans(batch_size=100, compute_labels=True, init='k-means++',\n",
      "        init_size=None, max_iter=100, max_no_improvement=10, n_clusters=20,\n",
      "        n_init=3, random_state=None, reassignment_ratio=0.01, tol=0.0,\n",
      "        verbose=True)\n",
      "Init 1/3 with method: k-means++\n",
      "Inertia for init 1/3: 197.546453\n",
      "Init 2/3 with method: k-means++\n",
      "Inertia for init 2/3: 223.546049\n",
      "Init 3/3 with method: k-means++\n",
      "Inertia for init 3/3: 220.169478\n",
      "Minibatch iteration 1/400: mean batch inertia: 0.690426, ewa inertia: 0.690426 \n",
      "Minibatch iteration 2/400: mean batch inertia: 0.777423, ewa inertia: 0.739438 \n",
      "Minibatch iteration 3/400: mean batch inertia: 0.726256, ewa inertia: 0.732012 \n",
      "Minibatch iteration 4/400: mean batch inertia: 0.758468, ewa inertia: 0.746917 \n",
      "Minibatch iteration 5/400: mean batch inertia: 0.696617, ewa inertia: 0.718579 \n",
      "Minibatch iteration 6/400: mean batch inertia: 0.676811, ewa inertia: 0.695047 \n",
      "Minibatch iteration 7/400: mean batch inertia: 0.790291, ewa inertia: 0.748706 \n",
      "Minibatch iteration 8/400: mean batch inertia: 0.705802, ewa inertia: 0.724535 \n",
      "Minibatch iteration 9/400: mean batch inertia: 0.710157, ewa inertia: 0.716435 \n",
      "Minibatch iteration 10/400: mean batch inertia: 0.725214, ewa inertia: 0.721381 \n",
      "Minibatch iteration 11/400: mean batch inertia: 0.679411, ewa inertia: 0.697736 \n",
      "Converged (lack of improvement in inertia) at iteration 11/400\n",
      "Computing label assignment and total inertia\n",
      "done in 0.091s\n",
      "\n",
      "Top terms per cluster:\n",
      "Cluster 0: imc oneview new firmware sd wan offerings gen10 line product\n",
      "Cluster 1: aruba synergy clearpass iot products infrastructure 3par virtualization technology hyperconverged\n",
      "Cluster 2: nimble simplivity 3par scality think storage synergy covered hyperconvergence futures\n",
      "Cluster 3: simplivity synergy pointnext aruba niara view azure stack roadmap clearpass\n",
      "Cluster 4: hybrid flexible pointnext capacity cloud helion iot aruba hpe solutions\n",
      "Cluster 5: gen 10 hpe synergy hyperconverged simplivity 3par services forward rmc\n",
      "Cluster 6: computing edge memory driven intelligent future cloud fintech blockchain clearpass\n",
      "Cluster 7: hp organization nfv procurement process interested synergy cities sdn know\n",
      "Cluster 8: synergy oneview hpe 3par moonshot software storage automation sap vdi\n",
      "Cluster 9: machine cases use learning docker aruba service data action list\n",
      "Cluster 10: flex capacity synergy interesting offering docker simplicity model azure asset\n",
      "Cluster 11: stack azure new cloud ms simplivity citizen technical synergy sap\n",
      "Cluster 12: iot solution connected management strategy solutions universal partnerships arista aruba\n",
      "Cluster 13: clear pass database tracking dr product service niara composable storage\n",
      "Cluster 14: pathfinder sgi center automation subscription overall innovation models service machine\n",
      "Cluster 15: cloud readiness services 3par hpe uh components security blade apollo\n",
      "Cluster 16: discussed meeting end items mesosphere follow flex action list carl\n",
      "Cluster 17: data big moonshot iot analytics nimble security apollo solutions centre\n",
      "Cluster 18: clearpass meridian niara airwave beacon synergy introspect aruba machine applications\n",
      "Cluster 19: composable smart city new sap architecture analytics view transformation edgeline\n"
     ]
    }
   ],
   "source": [
    "from openpyxl import Workbook\n",
    "import openpyxl\n",
    "book = openpyxl.load_workbook('Insights.xlsx')\n",
    "sheet = book.active\n",
    "\n",
    "# check we're working on the right thing\n",
    "print(sheet.cell(row=9,column=13).value)\n",
    "\n",
    "#extract the column data into a list, one item per row, ignoring empty cells\n",
    "learn_more_about=[]\n",
    "for row in range(11,862):\n",
    "    val=sheet.cell(row=row,column=13).value\n",
    "    if (val is not None): learn_more_about.append(val)\n",
    "        \n",
    "#check we've got what we expected\n",
    "learn_more_about[:10]\n",
    "\n",
    "#do the conversion to tf-idf, ignoring English stop words\n",
    "from sklearn.feature_extraction.text import TfidfVectorizer\n",
    "from sklearn.feature_extraction.text import TfidfTransformer\n",
    "from sklearn.pipeline import make_pipeline\n",
    "vectorizer = TfidfVectorizer(max_df=0.5, max_features=500,\n",
    "                                 min_df=2, stop_words='english',\n",
    "                                 use_idf=1)\n",
    "X = vectorizer.fit_transform(learn_more_about)\n",
    "\n",
    "#run K-means++ with mini-batch\n",
    "from sklearn.cluster import MiniBatchKMeans\n",
    "from time import time\n",
    "\n",
    "km = MiniBatchKMeans(n_clusters=20, init='k-means++', n_init=3, verbose=True)\n",
    "print(\"Clustering sparse data with %s\" % km)\n",
    "t0 = time()\n",
    "km.fit(X)\n",
    "print(\"done in %0.3fs\" % (time() - t0))\n",
    "print()\n",
    "\n",
    "#show top 10 words in each cluster\n",
    "print(\"Top terms per cluster:\")\n",
    "order_centroids = km.cluster_centers_.argsort()[:, ::-1]\n",
    "terms = vectorizer.get_feature_names()\n",
    "for i in range(20):\n",
    "    print(\"Cluster %d:\" % i, end='')\n",
    "    for j in order_centroids[i, :10]:\n",
    "        print(' %s' % terms[j], end='')\n",
    "    print()\n",
    "    "
   ]
  },
  {
   "cell_type": "code",
   "execution_count": 9,
   "metadata": {},
   "outputs": [
    {
     "data": {
      "text/plain": [
       "<354x322 sparse matrix of type '<class 'numpy.float64'>'\n",
       "\twith 1887 stored elements in Compressed Sparse Row format>"
      ]
     },
     "execution_count": 9,
     "metadata": {},
     "output_type": "execute_result"
    }
   ],
   "source": [
    "X"
   ]
  },
  {
   "cell_type": "code",
   "execution_count": 28,
   "metadata": {},
   "outputs": [
    {
     "data": {
      "text/plain": [
       "TfidfVectorizer(analyzer='word', binary=False, decode_error='strict',\n",
       "        dtype=<class 'numpy.int64'>, encoding='utf-8', input='content',\n",
       "        lowercase=True, max_df=0.5, max_features=500, min_df=2,\n",
       "        ngram_range=(1, 1), norm='l2', preprocessor=None, smooth_idf=True,\n",
       "        stop_words='english', strip_accents=None, sublinear_tf=False,\n",
       "        token_pattern='(?u)\\\\b\\\\w\\\\w+\\\\b', tokenizer=None, use_idf=1,\n",
       "        vocabulary=None)"
      ]
     },
     "execution_count": 28,
     "metadata": {},
     "output_type": "execute_result"
    }
   ],
   "source": [
    "vectorizer"
   ]
  }
 ],
 "metadata": {
  "kernelspec": {
   "display_name": "Python 3",
   "language": "python",
   "name": "python3"
  },
  "language_info": {
   "codemirror_mode": {
    "name": "ipython",
    "version": 3
   },
   "file_extension": ".py",
   "mimetype": "text/x-python",
   "name": "python",
   "nbconvert_exporter": "python",
   "pygments_lexer": "ipython3",
   "version": "3.5.2"
  }
 },
 "nbformat": 4,
 "nbformat_minor": 2
}
