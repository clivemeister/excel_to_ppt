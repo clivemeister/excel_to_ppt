{
 "cells": [
  {
   "cell_type": "code",
   "execution_count": 255,
   "metadata": {
    "scrolled": true
   },
   "outputs": [
    {
     "name": "stderr",
     "output_type": "stream",
     "text": [
      "2018-01-30 17:32:38,773 INFO Starting run for 2017-12...\n",
      "2018-01-30 17:32:38,778 INFO Importing excel file Insights.xlsx\n",
      "2018-01-30 17:32:44,575 INFO Creating presentation for December\n",
      "2018-01-30 17:32:44,577 INFO Modifying text in slide 0\n",
      "2018-01-30 17:32:44,582 INFO 3rd slide: large wordcloud for this month, and top 3 keywords\n",
      "2018-01-30 17:32:44,729 INFO Top keyword/counts for month 12 : [('onesphere', 12), ('simplivity', 10), ('aruba', 9), ('iot', 7), ('pointnext', 7)]\n",
      "2018-01-30 17:32:44,731 INFO font for word onesphere is 229.0 based on 35.0% = 12 / 34\n",
      "2018-01-30 17:32:46,101 INFO Modifying text and adding wordcloud in slide 2\n",
      "2018-01-30 17:32:46,142 INFO 4th slide: three wordclouds for most recent 3 months\n",
      "2018-01-30 17:32:46,293 INFO Top keyword/counts for month 11 : [('aruba', 15), ('iot', 14), ('synergy', 13), ('simplivity', 12), ('hybrid', 6)]\n",
      "2018-01-30 17:32:46,497 INFO Top keyword/counts for month 10 : [('synergy', 23), ('aruba', 18), ('simplivity', 17), ('iot', 15), ('pointnext', 11)]\n",
      "2018-01-30 17:32:46,505 INFO Useful rows in months 2,1,0 are 59, 40, 34\n",
      "2018-01-30 17:32:46,512 INFO font for word aruba is 248.0 based on 38.0% = 15 / 40\n",
      "2018-01-30 17:32:48,008 INFO font for word synergy is 255.0 based on 39.0% = 23 / 59\n",
      "2018-01-30 17:32:49,415 INFO Adding three wordclouds in slide 3\n",
      "2018-01-30 17:32:49,445 INFO 5th slide: top keywords for this month\n",
      "2018-01-30 17:32:49,664 INFO Kwd0 is onesphere, data [0.0, 0.050000000000000003, 0.35294117647058826]\n",
      "2018-01-30 17:32:49,853 INFO Kwd1 is simplivity, data [0.28813559322033899, 0.29999999999999999, 0.29411764705882354]\n",
      "2018-01-30 17:32:50,061 INFO Kwd0 is aruba, data [0.30508474576271188, 0.375, 0.26470588235294118]\n",
      "2018-01-30 17:32:50,832 INFO Adding line graphs, donuts and customers to the Top 3 Customer Interests slide (5th slide)\n",
      "2018-01-30 17:32:51,109 INFO 9th slide: industries and how they broke down across the centres\n",
      "2018-01-30 17:32:52,008 INFO Top keyword/counts for China: []\n",
      "2018-01-30 17:32:52,292 INFO Top keyword/counts for CME: [('aruba', 4), ('pointnext', 4), ('iot', 3), ('simplivity', 3)]\n",
      "2018-01-30 17:32:52,600 INFO Top keyword/counts for Energy: [('iot', 5), ('analytics', 2), ('simplivity', 2), ('pointnext', 1)]\n",
      "2018-01-30 17:32:52,885 INFO Top keyword/counts for Fin Svcs: [('synergy', 9), ('aruba', 7), ('simplivity', 6), ('analytics', 5)]\n",
      "2018-01-30 17:32:53,226 INFO Top keyword/counts for Health & LS: [('iot', 2), ('synergy', 2), ('simplivity', 2), ('nimble', 2)]\n",
      "2018-01-30 17:32:53,550 INFO Top keyword/counts for Japan: [('pointnext', 1), ('infosight', 1)]\n",
      "2018-01-30 17:32:53,856 INFO Top keyword/counts for Mfg: [('synergy', 9), ('aruba', 8), ('iot', 6), ('simplivity', 6)]\n",
      "2018-01-30 17:32:54,201 INFO Top keyword/counts for Other: [('aruba', 12), ('synergy', 9), ('simplivity', 9), ('nimble', 7)]\n",
      "2018-01-30 17:32:54,491 INFO Top keyword/counts for RCG: [('aruba', 2), ('hybrid', 2), ('sap', 2), ('oneview', 1)]\n",
      "2018-01-30 17:32:54,818 INFO Top keyword/counts for Public Sector: [('simplivity', 8), ('iot', 7), ('synergy', 5), ('aruba', 4)]\n",
      "2018-01-30 17:32:55,101 INFO Top keyword/counts for Travel & Trans: [('iot', 4), ('synergy', 4), ('onesphere', 4), ('aruba', 3)]\n",
      "2018-01-30 17:32:55,107 INFO Adding main donut to Industry Insights slide (9th slide)\n",
      "2018-01-30 17:32:55,114 INFO Adding donuts for top industries in each centre (9th slide)\n",
      "2018-01-30 17:32:55,119 INFO Writing Fin Svcs as industry 0\n",
      "2018-01-30 17:32:55,161 INFO Writing Mfg as industry 1\n",
      "2018-01-30 17:32:55,200 INFO Writing Public Sector as industry 2\n",
      "2018-01-30 17:32:55,242 INFO Writing CME as industry 3\n",
      "2018-01-30 17:32:55,287 INFO Writing Health & LS as industry 4\n",
      "2018-01-30 17:32:55,333 INFO 10th slide: top partner keywords and partner attendance broken out by centre\n",
      "2018-01-30 17:32:55,471 INFO Centres being looked at: ['PA', 'LON1', 'SNG', 'NY1', 'H']\n",
      "2018-01-30 17:32:55,473 INFO Volume by centre - partner: [8, 4, 0, 4, 2]\n",
      "2018-01-30 17:32:55,476 INFO Volume by centre - SI: [3, 2, 2, 0, 0]\n",
      "2018-01-30 17:32:55,478 INFO Volume by centre - attended: [26, 13, 12, 10, 4]\n",
      "2018-01-30 17:32:55,684 INFO top 4 partner interests: [('synergy', 19), ('simplivity', 17), ('aruba', 13), ('iot', 12)]\n",
      "2018-01-30 17:32:55,775 INFO 11th slide: top 5 interests, top 3 industries, and their top interests, by centre, for last 6 months\n",
      "2018-01-30 17:32:56,017 INFO Top keyword/counts in PA for Other: [('aruba', 10), ('iot', 7), ('synergy', 7)]\n",
      "2018-01-30 17:32:56,138 INFO Top keyword/counts in PA for Mfg: [('synergy', 14), ('simplivity', 11), ('iot', 9)]\n",
      "2018-01-30 17:32:56,241 INFO Top keyword/counts in PA for Fin Svcs: [('synergy', 9), ('aruba', 8), ('simplivity', 5)]\n",
      "2018-01-30 17:32:56,341 INFO Top keyword/counts in PA for Public Sector: [('pointnext', 4), ('iot', 3), ('analytics', 3)]\n",
      "2018-01-30 17:32:56,446 INFO Top keyword/counts in PA for CME: [('iot', 5), ('aruba', 3), ('simplivity', 3)]\n",
      "2018-01-30 17:32:56,544 INFO Top keyword/counts in PA for Health & LS: [('aruba', 5), ('synergy', 4), ('pointnext', 2)]\n",
      "2018-01-30 17:32:56,646 INFO Top keyword/counts in PA for RCG: [('hybrid', 3), ('hyperconverged', 2), ('aruba', 2)]\n",
      "2018-01-30 17:32:56,774 INFO Top keyword/counts in PA for Energy: [('iot', 5), ('pointnext', 1), ('onesphere', 1)]\n",
      "2018-01-30 17:32:56,870 INFO Top keyword/counts in PA for Travel & Trans: [('pointnext', 1), ('synergy', 1), ('iot', 1)]\n",
      "2018-01-30 17:32:56,999 INFO Top keyword/counts in PA for Non-Customer: []\n",
      "2018-01-30 17:32:57,166 INFO Top keyword/counts in PA for China: []\n",
      "2018-01-30 17:32:57,298 INFO Top keyword/counts in PA for Japan: [('pointnext', 1), ('infosight', 1)]\n",
      "2018-01-30 17:32:57,513 INFO Top keyword/counts in LON1 for Other: [('synergy', 7), ('iot', 5), ('simplivity', 5)]\n",
      "2018-01-30 17:32:57,635 INFO Top keyword/counts in LON1 for Fin Svcs: [('synergy', 5), ('aruba', 3), ('iot', 2)]\n",
      "2018-01-30 17:32:57,738 INFO Top keyword/counts in LON1 for Public Sector: [('synergy', 7), ('aruba', 6), ('clearpass', 5)]\n",
      "2018-01-30 17:32:57,851 INFO Top keyword/counts in LON1 for RCG: [('synergy', 2), ('hybrid', 2), ('nimble', 2)]\n",
      "2018-01-30 17:32:57,963 INFO Top keyword/counts in LON1 for Mfg: [('pointnext', 2), ('apollo', 1)]\n",
      "2018-01-30 17:32:58,071 INFO Top keyword/counts in LON1 for CME: [('simplivity', 2), ('nimble', 2), ('meridian', 1)]\n",
      "2018-01-30 17:32:58,186 INFO Top keyword/counts in LON1 for Health & LS: [('analytics', 2), ('aruba', 2), ('hybrid', 2)]\n",
      "2018-01-30 17:32:58,423 INFO Top keyword/counts in LON1 for Non-Customer: []\n",
      "2018-01-30 17:32:58,522 INFO Top keyword/counts in LON1 for Energy: [('synergy', 1), ('aruba', 1)]\n",
      "2018-01-30 17:32:58,635 INFO Top keyword/counts in LON1 for Travel & Trans: [('oneview', 2), ('onesphere', 2), ('synergy', 2)]\n",
      "2018-01-30 17:32:58,839 INFO Top keyword/counts in SNG for Other: [('simplivity', 9), ('synergy', 7), ('aruba', 6)]\n",
      "2018-01-30 17:32:58,951 INFO Top keyword/counts in SNG for Public Sector: [('synergy', 7), ('aruba', 7), ('simplivity', 7)]\n",
      "2018-01-30 17:32:59,094 INFO Top keyword/counts in SNG for Fin Svcs: [('synergy', 4), ('hybrid', 3), ('analytics', 2)]\n",
      "2018-01-30 17:32:59,193 INFO Top keyword/counts in SNG for Mfg: [('iot', 5), ('aruba', 5), ('simplivity', 5)]\n",
      "2018-01-30 17:32:59,297 INFO Top keyword/counts in SNG for CME: [('synergy', 4), ('iot', 4), ('hybrid', 4)]\n",
      "2018-01-30 17:32:59,406 INFO Top keyword/counts in SNG for Non-Customer: [('nimble', 3), ('simplivity', 2), ('synergy', 1)]\n",
      "2018-01-30 17:32:59,497 INFO Top keyword/counts in SNG for Energy: [('pointnext', 1), ('aruba', 1), ('simplivity', 1)]\n",
      "2018-01-30 17:32:59,579 INFO Top keyword/counts in SNG for Health & LS: [('simplivity', 2), ('synergy', 1), ('iot', 1)]\n",
      "2018-01-30 17:32:59,654 INFO Top keyword/counts in SNG for Travel & Trans: [('iot', 2), ('aruba', 2), ('hybrid', 2)]\n",
      "2018-01-30 17:32:59,766 INFO Top keyword/counts in SNG for RCG: [('sap', 1)]\n",
      "2018-01-30 17:32:59,921 INFO Top keyword/counts in NY1 for Fin Svcs: [('flexcapacity', 3), ('onesphere', 3), ('synergy', 2)]\n",
      "2018-01-30 17:33:00,076 INFO Top keyword/counts in NY1 for Other: [('simplivity', 4), ('oneview', 3), ('aruba', 3)]\n",
      "2018-01-30 17:33:00,154 INFO Top keyword/counts in NY1 for Health & LS: [('nimble', 2), ('oneview', 1), ('niara', 1)]\n"
     ]
    },
    {
     "name": "stderr",
     "output_type": "stream",
     "text": [
      "2018-01-30 17:33:00,231 INFO Top keyword/counts in NY1 for CME: [('pointnext', 3), ('oneview', 2), ('3par', 2)]\n",
      "2018-01-30 17:33:00,343 INFO Top keyword/counts in NY1 for Mfg: [('synergy', 1)]\n",
      "2018-01-30 17:33:00,421 INFO Top keyword/counts in NY1 for Public Sector: [('simplivity', 5), ('synergy', 2), ('nimble', 2)]\n",
      "2018-01-30 17:33:00,497 INFO Top keyword/counts in NY1 for Travel & Trans: [('nimble', 4), ('3par', 2), ('onesphere', 2)]\n",
      "2018-01-30 17:33:00,575 INFO Top keyword/counts in NY1 for RCG: [('hybrid', 2), ('synergy', 1), ('analytics', 1)]\n",
      "2018-01-30 17:33:00,726 INFO Top keyword/counts in NY1 for Non-Customer: []\n",
      "2018-01-30 17:33:00,859 INFO Top keyword/counts in NY1 for Energy: []\n",
      "2018-01-30 17:33:01,085 INFO Top keyword/counts in H for Energy: [('iot', 5), ('simplivity', 5), ('niara', 3)]\n",
      "2018-01-30 17:33:01,196 INFO Top keyword/counts in H for Mfg: [('simplivity', 9), ('oneview', 4), ('synergy', 4)]\n",
      "2018-01-30 17:33:01,308 INFO Top keyword/counts in H for Other: [('simplivity', 7), ('synergy', 4), ('nimble', 4)]\n",
      "2018-01-30 17:33:01,477 INFO Top keyword/counts in H for Public Sector: [('synergy', 4), ('airwave', 3), ('oneview', 2)]\n",
      "2018-01-30 17:33:01,658 INFO Top keyword/counts in H for CME: [('synergy', 2), ('moonshot', 1), ('aruba', 1)]\n",
      "2018-01-30 17:33:01,873 INFO Top keyword/counts in H for Fin Svcs: [('simplivity', 5), ('oneview', 3), ('vdi', 3)]\n",
      "2018-01-30 17:33:02,207 INFO Top keyword/counts in H for Health & LS: [('synergy', 5), ('oneview', 4), ('iot', 3)]\n",
      "2018-01-30 17:33:02,352 INFO Top keyword/counts in H for Travel & Trans: [('synergy', 2), ('moonshot', 1), ('iot', 1)]\n",
      "2018-01-30 17:33:02,515 INFO Top keyword/counts in H for RCG: [('hyperconverged', 1), ('clearpass', 1), ('hybrid', 1)]\n",
      "2018-01-30 17:33:02,666 INFO Top keyword/counts in H for Non-Customer: [('aruba', 1), ('nimble', 1)]\n",
      "2018-01-30 17:33:02,668 INFO Setting the title \n",
      "2018-01-30 17:33:02,672 INFO Setting the per-centre top 5 interests, together with per-centre top 3 industries and their interests\n",
      "2018-01-30 17:33:02,708 INFO For centre <PA> industry <0> is <Mfg>\n",
      "2018-01-30 17:33:02,750 INFO For centre <PA> industry <1> is <Fin Svcs>\n",
      "2018-01-30 17:33:02,778 INFO For centre <PA> industry <2> is <Public Sector>\n",
      "2018-01-30 17:33:02,895 INFO For centre <LON1> industry <0> is <Fin Svcs>\n",
      "2018-01-30 17:33:02,939 INFO For centre <LON1> industry <1> is <Public Sector>\n",
      "2018-01-30 17:33:02,987 INFO For centre <LON1> industry <2> is <RCG>\n",
      "2018-01-30 17:33:03,157 INFO For centre <SNG> industry <0> is <Public Sector>\n",
      "2018-01-30 17:33:03,210 INFO For centre <SNG> industry <1> is <Fin Svcs>\n",
      "2018-01-30 17:33:03,259 INFO For centre <SNG> industry <2> is <Mfg>\n",
      "2018-01-30 17:33:03,405 INFO For centre <NY1> industry <0> is <Fin Svcs>\n",
      "2018-01-30 17:33:03,453 INFO For centre <NY1> industry <1> is <Health & LS>\n",
      "2018-01-30 17:33:03,503 INFO For centre <NY1> industry <2> is <CME>\n",
      "2018-01-30 17:33:03,620 INFO For centre <H> industry <0> is <Energy>\n",
      "2018-01-30 17:33:03,657 INFO For centre <H> industry <1> is <Mfg>\n",
      "2018-01-30 17:33:03,701 INFO For centre <H> industry <2> is <Public Sector>\n",
      "2018-01-30 17:33:03,740 INFO Saving Powerpoint file for December\n",
      "2018-01-30 17:33:03,956 INFO ...and we're done!\n"
     ]
    }
   ],
   "source": [
    "for h in list(logger.handlers): logger.removeHandler(h)   # may be several here if we've crashed sometimes\n",
    "%run excel_to_ppt"
   ]
  },
  {
   "cell_type": "code",
   "execution_count": 254,
   "metadata": {},
   "outputs": [
    {
     "data": {
      "text/plain": [
       "0.29999999999999999"
      ]
     },
     "execution_count": 254,
     "metadata": {},
     "output_type": "execute_result"
    }
   ],
   "source": [
    "max(vals_kwd1)\n",
    "\n"
   ]
  },
  {
   "cell_type": "code",
   "execution_count": 126,
   "metadata": {},
   "outputs": [],
   "source": [
    "for h in list(logger.handlers): logger.removeHandler(h)   # may be several here if we've crashed sometimes"
   ]
  },
  {
   "cell_type": "code",
   "execution_count": 215,
   "metadata": {},
   "outputs": [
    {
     "data": {
      "text/plain": [
       "4"
      ]
     },
     "execution_count": 215,
     "metadata": {},
     "output_type": "execute_result"
    }
   ],
   "source": [
    "round(3.5)"
   ]
  },
  {
   "cell_type": "code",
   "execution_count": 257,
   "metadata": {},
   "outputs": [
    {
     "name": "stderr",
     "output_type": "stream",
     "text": [
      "2018-01-30 21:41:24,628 INFO Starting run for 2017-12...\n",
      "2018-01-30 21:41:24,633 INFO Importing excel file Insights.xlsx\n",
      "2018-01-30 21:41:28,864 INFO Creating presentation for December\n",
      "2018-01-30 21:41:28,866 INFO Modifying text in slide 0\n",
      "2018-01-30 21:41:28,876 INFO 3rd slide: large wordcloud for this month, and top 3 keywords\n",
      "2018-01-30 21:41:29,014 INFO Top keyword/counts for month 12 : [('onesphere', 12), ('simplivity', 10), ('aruba', 9), ('iot', 7), ('pointnext', 7)]\n",
      "2018-01-30 21:41:29,017 INFO font for word onesphere is 229.0 based on 35.0% = 12 / 34\n",
      "2018-01-30 21:41:30,060 INFO Modifying text and adding wordcloud in slide 2\n",
      "2018-01-30 21:41:30,090 INFO 4th slide: three wordclouds for most recent 3 months\n",
      "2018-01-30 21:41:30,173 INFO Top keyword/counts for month 11 : [('aruba', 15), ('iot', 14), ('synergy', 13), ('simplivity', 12), ('hybrid', 6)]\n",
      "2018-01-30 21:41:30,272 INFO Top keyword/counts for month 10 : [('synergy', 23), ('aruba', 18), ('simplivity', 17), ('iot', 15), ('pointnext', 11)]\n",
      "2018-01-30 21:41:30,276 INFO Useful rows in months 2,1,0 are 59, 40, 34\n",
      "2018-01-30 21:41:30,278 INFO font for word aruba is 248.0 based on 38.0% = 15 / 40\n",
      "2018-01-30 21:41:31,270 INFO font for word synergy is 255.0 based on 39.0% = 23 / 59\n",
      "2018-01-30 21:41:32,345 INFO Adding three wordclouds in slide 3\n",
      "2018-01-30 21:41:32,369 INFO 5th slide: top keywords for this month\n",
      "2018-01-30 21:41:32,522 INFO Kwd0 is onesphere, data [0.0, 0.050000000000000003, 0.35294117647058826]\n",
      "2018-01-30 21:41:32,648 INFO Kwd1 is simplivity, data [0.28813559322033899, 0.29999999999999999, 0.29411764705882354]\n",
      "2018-01-30 21:41:32,782 INFO Kwd0 is aruba, data [0.30508474576271188, 0.375, 0.26470588235294118]\n",
      "2018-01-30 21:41:33,315 INFO Adding line graphs, donuts and customers to the Top 3 Customer Interests slide (5th slide)\n",
      "2018-01-30 21:41:33,435 INFO 9th slide: industries and how they broke down across the centres\n",
      "2018-01-30 21:41:33,980 INFO Top keyword/counts for China: []\n",
      "2018-01-30 21:41:34,204 INFO Top keyword/counts for CME: [('aruba', 4), ('pointnext', 4), ('iot', 3), ('simplivity', 3)]\n",
      "2018-01-30 21:41:34,509 INFO Top keyword/counts for Energy: [('iot', 5), ('analytics', 2), ('simplivity', 2), ('pointnext', 1)]\n",
      "2018-01-30 21:41:34,736 INFO Top keyword/counts for Fin Svcs: [('synergy', 9), ('aruba', 7), ('simplivity', 6), ('analytics', 5)]\n",
      "2018-01-30 21:41:35,019 INFO Top keyword/counts for Health & LS: [('iot', 2), ('synergy', 2), ('simplivity', 2), ('nimble', 2)]\n",
      "2018-01-30 21:41:35,332 INFO Top keyword/counts for Japan: [('pointnext', 1), ('infosight', 1)]\n",
      "2018-01-30 21:41:35,551 INFO Top keyword/counts for Mfg: [('synergy', 9), ('aruba', 8), ('iot', 6), ('simplivity', 6)]\n",
      "2018-01-30 21:41:35,754 INFO Top keyword/counts for Other: [('aruba', 12), ('synergy', 9), ('simplivity', 9), ('nimble', 7)]\n",
      "2018-01-30 21:41:35,987 INFO Top keyword/counts for RCG: [('aruba', 2), ('hybrid', 2), ('sap', 2), ('oneview', 1)]\n",
      "2018-01-30 21:41:36,214 INFO Top keyword/counts for Public Sector: [('simplivity', 8), ('iot', 7), ('synergy', 5), ('aruba', 4)]\n",
      "2018-01-30 21:41:36,464 INFO Top keyword/counts for Travel & Trans: [('iot', 4), ('synergy', 4), ('onesphere', 4), ('aruba', 3)]\n",
      "2018-01-30 21:41:36,468 INFO Adding main donut to Industry Insights slide (9th slide)\n",
      "2018-01-30 21:41:36,476 INFO Adding donuts for top industries in each centre (9th slide)\n",
      "2018-01-30 21:41:36,478 INFO Writing Fin Svcs as industry 0\n",
      "2018-01-30 21:41:36,522 INFO Writing Mfg as industry 1\n",
      "2018-01-30 21:41:36,571 INFO Writing Public Sector as industry 2\n",
      "2018-01-30 21:41:36,615 INFO Writing CME as industry 3\n",
      "2018-01-30 21:41:36,658 INFO Writing Health & LS as industry 4\n",
      "2018-01-30 21:41:36,708 INFO 10th slide: top partner keywords and partner attendance broken out by centre\n",
      "2018-01-30 21:41:36,846 INFO Centres being looked at: ['PA', 'LON1', 'SNG', 'NY1', 'H']\n",
      "2018-01-30 21:41:36,847 INFO Volume by centre - partner: [8, 4, 0, 4, 2]\n",
      "2018-01-30 21:41:36,849 INFO Volume by centre - SI: [3, 2, 2, 0, 0]\n",
      "2018-01-30 21:41:36,852 INFO Volume by centre - attended: [26, 13, 12, 10, 4]\n",
      "2018-01-30 21:41:37,031 INFO top 4 partner interests: [('synergy', 19), ('simplivity', 17), ('aruba', 13), ('iot', 12)]\n",
      "2018-01-30 21:41:37,112 INFO 11th slide: top 5 interests, top 3 industries, and their top interests, by centre, for last 6 months\n",
      "2018-01-30 21:41:37,315 INFO Top keyword/counts in PA for Other: [('aruba', 10), ('iot', 7), ('synergy', 7)]\n",
      "2018-01-30 21:41:37,403 INFO Top keyword/counts in PA for Mfg: [('synergy', 14), ('simplivity', 11), ('iot', 9)]\n",
      "2018-01-30 21:41:37,486 INFO Top keyword/counts in PA for Fin Svcs: [('synergy', 9), ('aruba', 8), ('simplivity', 5)]\n",
      "2018-01-30 21:41:37,564 INFO Top keyword/counts in PA for Public Sector: [('pointnext', 4), ('iot', 3), ('analytics', 3)]\n",
      "2018-01-30 21:41:37,648 INFO Top keyword/counts in PA for CME: [('iot', 5), ('aruba', 3), ('simplivity', 3)]\n",
      "2018-01-30 21:41:37,720 INFO Top keyword/counts in PA for Health & LS: [('aruba', 5), ('synergy', 4), ('pointnext', 2)]\n",
      "2018-01-30 21:41:37,807 INFO Top keyword/counts in PA for RCG: [('hybrid', 3), ('hyperconverged', 2), ('aruba', 2)]\n",
      "2018-01-30 21:41:37,884 INFO Top keyword/counts in PA for Energy: [('iot', 5), ('pointnext', 1), ('onesphere', 1)]\n",
      "2018-01-30 21:41:37,959 INFO Top keyword/counts in PA for Travel & Trans: [('pointnext', 1), ('synergy', 1), ('iot', 1)]\n",
      "2018-01-30 21:41:38,067 INFO Top keyword/counts in PA for Non-Customer: []\n",
      "2018-01-30 21:41:38,238 INFO Top keyword/counts in PA for China: []\n",
      "2018-01-30 21:41:38,344 INFO Top keyword/counts in PA for Japan: [('pointnext', 1), ('infosight', 1)]\n",
      "2018-01-30 21:41:38,515 INFO Top keyword/counts in LON1 for Other: [('synergy', 7), ('iot', 5), ('simplivity', 5)]\n",
      "2018-01-30 21:41:38,598 INFO Top keyword/counts in LON1 for Fin Svcs: [('synergy', 5), ('aruba', 3), ('iot', 2)]\n",
      "2018-01-30 21:41:38,684 INFO Top keyword/counts in LON1 for Public Sector: [('synergy', 7), ('aruba', 6), ('clearpass', 5)]\n",
      "2018-01-30 21:41:38,764 INFO Top keyword/counts in LON1 for RCG: [('synergy', 2), ('hybrid', 2), ('nimble', 2)]\n",
      "2018-01-30 21:41:38,849 INFO Top keyword/counts in LON1 for Mfg: [('pointnext', 2), ('apollo', 1)]\n",
      "2018-01-30 21:41:38,925 INFO Top keyword/counts in LON1 for CME: [('simplivity', 2), ('nimble', 2), ('meridian', 1)]\n",
      "2018-01-30 21:41:39,006 INFO Top keyword/counts in LON1 for Health & LS: [('analytics', 2), ('aruba', 2), ('hybrid', 2)]\n",
      "2018-01-30 21:41:39,171 INFO Top keyword/counts in LON1 for Non-Customer: []\n",
      "2018-01-30 21:41:39,249 INFO Top keyword/counts in LON1 for Energy: [('synergy', 1), ('aruba', 1)]\n",
      "2018-01-30 21:41:39,335 INFO Top keyword/counts in LON1 for Travel & Trans: [('oneview', 2), ('onesphere', 2), ('synergy', 2)]\n",
      "2018-01-30 21:41:39,500 INFO Top keyword/counts in SNG for Other: [('simplivity', 9), ('synergy', 7), ('aruba', 6)]\n",
      "2018-01-30 21:41:39,593 INFO Top keyword/counts in SNG for Public Sector: [('synergy', 7), ('aruba', 7), ('simplivity', 7)]\n",
      "2018-01-30 21:41:39,673 INFO Top keyword/counts in SNG for Fin Svcs: [('synergy', 4), ('hybrid', 3), ('analytics', 2)]\n",
      "2018-01-30 21:41:39,750 INFO Top keyword/counts in SNG for Mfg: [('iot', 5), ('aruba', 5), ('simplivity', 5)]\n",
      "2018-01-30 21:41:39,820 INFO Top keyword/counts in SNG for CME: [('synergy', 4), ('iot', 4), ('hybrid', 4)]\n",
      "2018-01-30 21:41:39,884 INFO Top keyword/counts in SNG for Non-Customer: [('nimble', 3), ('simplivity', 2), ('synergy', 1)]\n",
      "2018-01-30 21:41:39,955 INFO Top keyword/counts in SNG for Energy: [('pointnext', 1), ('aruba', 1), ('simplivity', 1)]\n",
      "2018-01-30 21:41:40,062 INFO Top keyword/counts in SNG for Health & LS: [('simplivity', 2), ('synergy', 1), ('iot', 1)]\n",
      "2018-01-30 21:41:40,146 INFO Top keyword/counts in SNG for Travel & Trans: [('iot', 2), ('aruba', 2), ('hybrid', 2)]\n",
      "2018-01-30 21:41:40,270 INFO Top keyword/counts in SNG for RCG: [('sap', 1)]\n",
      "2018-01-30 21:41:40,456 INFO Top keyword/counts in NY1 for Fin Svcs: [('flexcapacity', 3), ('onesphere', 3), ('synergy', 2)]\n",
      "2018-01-30 21:41:40,539 INFO Top keyword/counts in NY1 for Other: [('simplivity', 4), ('oneview', 3), ('aruba', 3)]\n",
      "2018-01-30 21:41:40,618 INFO Top keyword/counts in NY1 for Health & LS: [('nimble', 2), ('oneview', 1), ('niara', 1)]\n"
     ]
    },
    {
     "name": "stderr",
     "output_type": "stream",
     "text": [
      "2018-01-30 21:41:40,705 INFO Top keyword/counts in NY1 for CME: [('pointnext', 3), ('oneview', 2), ('3par', 2)]\n",
      "2018-01-30 21:41:40,832 INFO Top keyword/counts in NY1 for Mfg: [('synergy', 1)]\n",
      "2018-01-30 21:41:40,909 INFO Top keyword/counts in NY1 for Public Sector: [('simplivity', 5), ('synergy', 2), ('nimble', 2)]\n",
      "2018-01-30 21:41:40,981 INFO Top keyword/counts in NY1 for Travel & Trans: [('nimble', 4), ('3par', 2), ('onesphere', 2)]\n",
      "2018-01-30 21:41:41,057 INFO Top keyword/counts in NY1 for RCG: [('hybrid', 2), ('synergy', 1), ('analytics', 1)]\n",
      "2018-01-30 21:41:41,215 INFO Top keyword/counts in NY1 for Non-Customer: []\n",
      "2018-01-30 21:41:41,348 INFO Top keyword/counts in NY1 for Energy: []\n",
      "2018-01-30 21:41:41,579 INFO Top keyword/counts in H for Energy: [('iot', 5), ('simplivity', 5), ('niara', 3)]\n",
      "2018-01-30 21:41:41,665 INFO Top keyword/counts in H for Mfg: [('simplivity', 9), ('oneview', 4), ('synergy', 4)]\n",
      "2018-01-30 21:41:41,752 INFO Top keyword/counts in H for Other: [('simplivity', 7), ('synergy', 4), ('nimble', 4)]\n",
      "2018-01-30 21:41:41,834 INFO Top keyword/counts in H for Public Sector: [('synergy', 4), ('airwave', 3), ('oneview', 2)]\n",
      "2018-01-30 21:41:41,912 INFO Top keyword/counts in H for CME: [('synergy', 2), ('moonshot', 1), ('aruba', 1)]\n",
      "2018-01-30 21:41:41,989 INFO Top keyword/counts in H for Fin Svcs: [('simplivity', 5), ('oneview', 3), ('vdi', 3)]\n",
      "2018-01-30 21:41:42,066 INFO Top keyword/counts in H for Health & LS: [('synergy', 5), ('oneview', 4), ('iot', 3)]\n",
      "2018-01-30 21:41:42,152 INFO Top keyword/counts in H for Travel & Trans: [('synergy', 2), ('moonshot', 1), ('iot', 1)]\n",
      "2018-01-30 21:41:42,224 INFO Top keyword/counts in H for RCG: [('hyperconverged', 1), ('clearpass', 1), ('hybrid', 1)]\n",
      "2018-01-30 21:41:42,337 INFO Top keyword/counts in H for Non-Customer: [('aruba', 1), ('nimble', 1)]\n",
      "2018-01-30 21:41:42,339 INFO Setting the title \n",
      "2018-01-30 21:41:42,343 INFO Setting the per-centre top 5 interests, together with per-centre top 3 industries and their interests\n",
      "2018-01-30 21:41:42,376 INFO For centre <PA> industry <0> is <Mfg>\n",
      "2018-01-30 21:41:42,411 INFO For centre <PA> industry <1> is <Fin Svcs>\n",
      "2018-01-30 21:41:42,447 INFO For centre <PA> industry <2> is <Public Sector>\n",
      "2018-01-30 21:41:42,536 INFO For centre <LON1> industry <0> is <Fin Svcs>\n",
      "2018-01-30 21:41:42,588 INFO For centre <LON1> industry <1> is <Public Sector>\n",
      "2018-01-30 21:41:42,633 INFO For centre <LON1> industry <2> is <RCG>\n",
      "2018-01-30 21:41:42,760 INFO For centre <SNG> industry <0> is <Public Sector>\n",
      "2018-01-30 21:41:42,798 INFO For centre <SNG> industry <1> is <Fin Svcs>\n",
      "2018-01-30 21:41:42,835 INFO For centre <SNG> industry <2> is <Mfg>\n",
      "2018-01-30 21:41:42,939 INFO For centre <NY1> industry <0> is <Fin Svcs>\n",
      "2018-01-30 21:41:42,978 INFO For centre <NY1> industry <1> is <Health & LS>\n",
      "2018-01-30 21:41:43,015 INFO For centre <NY1> industry <2> is <CME>\n",
      "2018-01-30 21:41:43,089 INFO For centre <H> industry <0> is <Energy>\n",
      "2018-01-30 21:41:43,115 INFO For centre <H> industry <1> is <Mfg>\n",
      "2018-01-30 21:41:43,151 INFO For centre <H> industry <2> is <Public Sector>\n",
      "2018-01-30 21:41:43,178 INFO Saving Powerpoint file for December\n",
      "2018-01-30 21:41:43,359 INFO ...and we're done!\n"
     ]
    }
   ],
   "source": [
    "for h in list(logger.handlers): logger.removeHandler(h)   # may be several here if we've crashed sometimes\n",
    "%run excel_to_ppt\n"
   ]
  }
 ],
 "metadata": {
  "kernelspec": {
   "display_name": "Python 3",
   "language": "python",
   "name": "python3"
  },
  "language_info": {
   "codemirror_mode": {
    "name": "ipython",
    "version": 3
   },
   "file_extension": ".py",
   "mimetype": "text/x-python",
   "name": "python",
   "nbconvert_exporter": "python",
   "pygments_lexer": "ipython3",
   "version": "3.5.2"
  }
 },
 "nbformat": 4,
 "nbformat_minor": 2
}
