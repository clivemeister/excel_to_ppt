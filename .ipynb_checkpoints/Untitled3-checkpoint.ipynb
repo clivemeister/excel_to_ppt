{
 "cells": [
  {
   "cell_type": "code",
   "execution_count": 108,
   "metadata": {},
   "outputs": [],
   "source": [
    "import excel_to_ppt"
   ]
  },
  {
   "cell_type": "code",
   "execution_count": 107,
   "metadata": {},
   "outputs": [
    {
     "name": "stdout",
     "output_type": "stream",
     "text": [
      "8\n",
      "found colour  turquoise  in colour codes\n",
      "found colour  purple  in colour codes\n",
      "found colour  orange  in colour codes\n",
      "found colour  green  in colour codes\n",
      "found colour  gray  in colour codes\n",
      "found colour  dark_gray  in colour codes\n",
      "found colour  bronze  in colour codes\n",
      "found colour  slate  in colour codes\n"
     ]
    },
    {
     "data": {
      "text/plain": [
       "{108930: ['helion',\n",
       "  'azurestack',\n",
       "  'hybrid',\n",
       "  'docker',\n",
       "  'vdi',\n",
       "  'new_stack',\n",
       "  'cloudcruiser',\n",
       "  'onesphere',\n",
       "  'office365'],\n",
       " 2806473: ['superdome',\n",
       "  'blades',\n",
       "  'gen10',\n",
       "  'sgi',\n",
       "  'composable',\n",
       "  'synergy',\n",
       "  'moonshot',\n",
       "  'converged',\n",
       "  'hyperconverged',\n",
       "  'cloudline',\n",
       "  'cloudsystem',\n",
       "  'simplivity',\n",
       "  'easyconnect',\n",
       "  'sap',\n",
       "  'apollo'],\n",
       " 4347235: ['iot', 'edgeline', 'smart_city'],\n",
       " 6047591: ['greenlake', 'hpefs', 'flexcapacity', 'saas'],\n",
       " 8418414: ['blockchain', 'gen-z', 'the_machine', 'photonics'],\n",
       " 8422021: ['openstack', 'devops', 'oneview'],\n",
       " 13027786: ['3par',\n",
       "  'bura',\n",
       "  'nimble',\n",
       "  'big_data',\n",
       "  'scality',\n",
       "  'storeonce',\n",
       "  'analytics',\n",
       "  'infosight'],\n",
       " 16747885: ['networking',\n",
       "  'wireless',\n",
       "  'aruba',\n",
       "  'arista',\n",
       "  'clearpass',\n",
       "  'naas',\n",
       "  'skype',\n",
       "  'meridian',\n",
       "  'airwave',\n",
       "  'niara']}"
      ]
     },
     "execution_count": 107,
     "metadata": {},
     "output_type": "execute_result"
    }
   ],
   "source": [
    "import configparser\n",
    "import json\n",
    "cfg = configparser.ConfigParser()\n",
    "\n",
    "cfg.read('excel_to_ppt.ini')\n",
    "cfg.sections()\n",
    "\n",
    "colour_codes = dict(cfg.items('colours'))\n",
    "for k in colour_codes:\n",
    "    colour_codes[k]=int(colour_codes[k],16)   # convert from string of hex version to actual number\n",
    "    \n",
    "c_to_k=config.items('keywords')\n",
    "print(len(c_to_k))\n",
    "dict_colour_to_keyword={}\n",
    "for i in cfg.items('keywords'):\n",
    "    if (i[0] in colour_codes): print('found colour ',i[0],' in colour codes')\n",
    "    else: print('did not find colour ',i[0],' in colour codes')\n",
    "    dict_colour_to_keyword[colour_codes[i[0]]]=json.loads(i[1])\n",
    "\n",
    "dict_colour_to_keyword"
   ]
  },
  {
   "cell_type": "code",
   "execution_count": 83,
   "metadata": {},
   "outputs": [
    {
     "data": {
      "text/plain": [
       "[6047591,\n",
       " 8418414,\n",
       " 2806473,\n",
       " 13027786,\n",
       " 8422021,\n",
       " 4347235,\n",
       " 108930,\n",
       " 16747885,\n",
       " 6257260]"
      ]
     },
     "execution_count": 83,
     "metadata": {},
     "output_type": "execute_result"
    }
   ],
   "source": [
    "colour_vals=[]\n",
    "for k in cc: colour_vals.append(int(cc[k],16))\n",
    "colour_vals"
   ]
  }
 ],
 "metadata": {
  "kernelspec": {
   "display_name": "Python 3",
   "language": "python",
   "name": "python3"
  },
  "language_info": {
   "codemirror_mode": {
    "name": "ipython",
    "version": 3
   },
   "file_extension": ".py",
   "mimetype": "text/x-python",
   "name": "python",
   "nbconvert_exporter": "python",
   "pygments_lexer": "ipython3",
   "version": "3.5.2"
  }
 },
 "nbformat": 4,
 "nbformat_minor": 2
}
