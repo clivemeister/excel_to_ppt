{
 "cells": [
  {
   "cell_type": "code",
   "execution_count": 10,
   "metadata": {},
   "outputs": [
    {
     "name": "stdout",
     "output_type": "stream",
     "text": [
      "Looking at column headed: Want to Learn More About\n",
      "First few rows:\n",
      " ['List provided to Rep.\\nOneView', 'IoT gaps\\nTamr', 'Arista\\nAruba beacons\\nHPE aaS (HPe as a Service)\\nMobility\\nCRM\\nBroadband (WiFi)\\nBeacons', 'Mesosphere\\nMARA', \"Synergy, OneView, Aruba\\nAruba Mobility AP's\", 'BVD', \"One View, Simplivity\\nI'm a partner\", 'VDI\\nWe already have a plan!\\nMoonshot\\nSynergy', 'One View Intergration Vcenter', 'Aruba Cloud Managed Technology\\nAruba products and pros and cons when comparing to Meraki.']\n"
     ]
    },
    {
     "data": {
      "text/plain": [
       "{'3par': 0,\n",
       " 'aruba': 1,\n",
       " 'azure': 2,\n",
       " 'capacity': 3,\n",
       " 'clearpass': 4,\n",
       " 'cloud': 5,\n",
       " 'data': 6,\n",
       " 'edge': 7,\n",
       " 'hpe': 8,\n",
       " 'hybrid': 9,\n",
       " 'iot': 10,\n",
       " 'machine': 11,\n",
       " 'new': 12,\n",
       " 'nimble': 13,\n",
       " 'oneview': 14,\n",
       " 'simplivity': 15,\n",
       " 'solutions': 16,\n",
       " 'stack': 17,\n",
       " 'storage': 18,\n",
       " 'synergy': 19}"
      ]
     },
     "execution_count": 10,
     "metadata": {},
     "output_type": "execute_result"
    }
   ],
   "source": [
    "from openpyxl import Workbook\n",
    "import openpyxl\n",
    "book = openpyxl.load_workbook('Insights.xlsx')\n",
    "sheet = book.active\n",
    "\n",
    "# check we're working on the right thing\n",
    "print(\"Looking at column headed:\",sheet.cell(row=9,column=13).value)\n",
    "\n",
    "#extract the column data into a list, one item per row, ignoring empty cells\n",
    "learn_more_about=[]\n",
    "for row in range(11,862):\n",
    "    val=sheet.cell(row=row,column=13).value\n",
    "    if (val is not None): learn_more_about.append(val)\n",
    "        \n",
    "#check we've got what we expected\n",
    "print(\"First few rows:\\n\",learn_more_about[:10])\n",
    "\n",
    "#do the conversion to tf-idf, ignoring English stop words\n",
    "from sklearn.feature_extraction.text import TfidfVectorizer\n",
    "from sklearn.feature_extraction.text import TfidfTransformer\n",
    "from sklearn.pipeline import make_pipeline\n",
    "vectorizer = TfidfVectorizer(max_df=0.5, max_features=20,\n",
    "                                 min_df=2, stop_words='english',\n",
    "                                 use_idf=True)\n",
    "X = vectorizer.fit_transform(learn_more_about)\n",
    "vectorizer.idf_\n",
    "vectorizer.vocabulary_"
   ]
  },
  {
   "cell_type": "code",
   "execution_count": 11,
   "metadata": {},
   "outputs": [
    {
     "data": {
      "text/plain": [
       "array([ 3.73662357,  2.76124393,  3.92767881,  3.69406396,  3.61402125,\n",
       "        3.40638189,  3.57628092,  3.98174603,  3.13444817,  3.43813058,\n",
       "        2.98029749,  3.73662357,  3.61402125,  3.31676973,  3.65324196,\n",
       "        2.50266994,  3.23453163,  3.47092041,  3.73662357,  2.25699727])"
      ]
     },
     "execution_count": 11,
     "metadata": {},
     "output_type": "execute_result"
    }
   ],
   "source": [
    "vectorizer.idf_"
   ]
  },
  {
   "cell_type": "code",
   "execution_count": 12,
   "metadata": {},
   "outputs": [
    {
     "data": {
      "text/plain": [
       "{'3par': 0,\n",
       " 'aruba': 1,\n",
       " 'azure': 2,\n",
       " 'capacity': 3,\n",
       " 'clearpass': 4,\n",
       " 'cloud': 5,\n",
       " 'data': 6,\n",
       " 'edge': 7,\n",
       " 'hpe': 8,\n",
       " 'hybrid': 9,\n",
       " 'iot': 10,\n",
       " 'machine': 11,\n",
       " 'new': 12,\n",
       " 'nimble': 13,\n",
       " 'oneview': 14,\n",
       " 'simplivity': 15,\n",
       " 'solutions': 16,\n",
       " 'stack': 17,\n",
       " 'storage': 18,\n",
       " 'synergy': 19}"
      ]
     },
     "execution_count": 12,
     "metadata": {},
     "output_type": "execute_result"
    }
   ],
   "source": [
    "vectorizer.vocabulary_"
   ]
  }
 ],
 "metadata": {
  "kernelspec": {
   "display_name": "Python 3",
   "language": "python",
   "name": "python3"
  },
  "language_info": {
   "codemirror_mode": {
    "name": "ipython",
    "version": 3
   },
   "file_extension": ".py",
   "mimetype": "text/x-python",
   "name": "python",
   "nbconvert_exporter": "python",
   "pygments_lexer": "ipython3",
   "version": "3.5.2"
  }
 },
 "nbformat": 4,
 "nbformat_minor": 2
}
