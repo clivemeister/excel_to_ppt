{
 "cells": [
  {
   "cell_type": "code",
   "execution_count": 41,
   "metadata": {
    "scrolled": true
   },
   "outputs": [
    {
     "name": "stdout",
     "output_type": "stream",
     "text": [
      "slide_shape 0 -->\n",
      "< level 0 > Observations  \n",
      "< level 0 > Observation3\n",
      "< level 0 > \n",
      "slide_shape 1 -->\n",
      "< level 0 > Observations \n",
      "< level 0 > Observation1\n",
      "slide_shape 2 -->\n",
      "< level 0 > Observations \n",
      "< level 0 > Observation2\n",
      "< level 0 > \n",
      "< level 0 > \n",
      "< level 0 > \n",
      "slide_shape 3 -->\n",
      "< level 0 > Top 3 Customer Interests: XXX - XXX\n",
      "slide_shape 4 -->\n",
      "< level 0 > WW% of visits expressing interest post briefings\n",
      "slide_shape 5 -->\n",
      "< level 0 > distribution of visits expressing interest post briefing\n",
      "slide_shape 6 -->\n",
      "< level 0 > Topic3\n",
      "slide_shape 7 -->\n",
      "< level 0 > Customers for this month\n",
      "< level 0 > Customers3\n",
      "< level 0 > Partners/Multi customer\n",
      "< level 0 > Partners3\n",
      "< level 0 > \n",
      "slide_shape 8 -->\n",
      "< level 0 > 5\n",
      "slide_shape 9 -->\n",
      "< level 0 > WW% of visits expressing interest post briefings\n",
      "slide_shape 10 -->\n",
      "< level 0 > distribution of visits expressing interest post briefing\n",
      "slide_shape 11 -->\n",
      "< level 0 > Topic1\n",
      "slide_shape 12 -->\n",
      "< level 0 > Customers for this month\n",
      "< level 0 > Customers1\n",
      "********\n",
      "< level 0 > Another customer in 1\n",
      "< level 0 > Partners/Multi customer\n",
      "< level 0 > Partners1\n",
      "slide_shape 13 -->\n",
      "< level 0 > WW% of visits expressing interest post briefings\n",
      "slide_shape 14 -->\n",
      "< level 0 > distribution of visits expressing interest post briefing\n",
      "slide_shape 15 -->\n",
      "< level 0 > Topic2\n",
      "slide_shape 16 -->\n",
      "< level 0 > Customers for this month\n",
      "< level 0 > Customers2\n",
      "< level 0 > \n",
      "< level 0 > Partners/Multi customer \n",
      "< level 0 > Partners2\n"
     ]
    },
    {
     "data": {
      "text/plain": [
       "20"
      ]
     },
     "execution_count": 41,
     "metadata": {},
     "output_type": "execute_result"
    }
   ],
   "source": [
    "from pptx import Presentation\n",
    "\n",
    "prs = Presentation('GCA_Customer_Insights_Month-Year.pptx')\n",
    "\n",
    "## Get the 0-indexed n-th slide\n",
    "s = prs.slides[4]\n",
    "\n",
    "slide_shapes = s.shapes\n",
    "for i in range(len(slide_shapes)):\n",
    "    if (slide_shapes[i].has_text_frame):\n",
    "        text_frame = slide_shapes[i].text_frame \n",
    "        print(\"slide_shape\",i,\"-->\")\n",
    "        for p in range(len(text_frame.paragraphs)):\n",
    "            print(\"< level\",text_frame.paragraphs[p].level,\">\",text_frame.paragraphs[p].text)\n",
    "            if (text_frame.paragraphs[p].text.find(\"Customers1\")>=0): print(\"********\")\n",
    "                \n",
    "len(slide_shapes)"
   ]
  },
  {
   "cell_type": "code",
   "execution_count": 15,
   "metadata": {},
   "outputs": [
    {
     "ename": "ValueError",
     "evalue": "invalid literal for int() with base 10: 'NaN'",
     "output_type": "error",
     "traceback": [
      "\u001b[1;31m---------------------------------------------------------------------------\u001b[0m",
      "\u001b[1;31mValueError\u001b[0m                                Traceback (most recent call last)",
      "\u001b[1;32m<ipython-input-15-180faa3a2215>\u001b[0m in \u001b[0;36m<module>\u001b[1;34m()\u001b[0m\n\u001b[1;32m----> 1\u001b[1;33m \u001b[0mf\u001b[0m\u001b[1;33m=\u001b[0m\u001b[0mint\u001b[0m\u001b[1;33m(\u001b[0m\u001b[1;34m'NaN'\u001b[0m\u001b[1;33m)\u001b[0m\u001b[1;33m\u001b[0m\u001b[0m\n\u001b[0m",
      "\u001b[1;31mValueError\u001b[0m: invalid literal for int() with base 10: 'NaN'"
     ]
    }
   ],
   "source": [
    "f=int('NaN')                                                                                                                                               m,"
   ]
  }
 ],
 "metadata": {
  "kernelspec": {
   "display_name": "Python 3",
   "language": "python",
   "name": "python3"
  },
  "language_info": {
   "codemirror_mode": {
    "name": "ipython",
    "version": 3
   },
   "file_extension": ".py",
   "mimetype": "text/x-python",
   "name": "python",
   "nbconvert_exporter": "python",
   "pygments_lexer": "ipython3",
   "version": "3.5.2"
  }
 },
 "nbformat": 4,
 "nbformat_minor": 2
}
