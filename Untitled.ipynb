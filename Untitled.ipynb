{
 "cells": [
  {
   "cell_type": "code",
   "execution_count": 1,
   "metadata": {},
   "outputs": [
    {
     "ename": "SyntaxError",
     "evalue": "invalid syntax (<ipython-input-1-299ff44beb53>, line 2)",
     "output_type": "error",
     "traceback": [
      "\u001b[1;36m  File \u001b[1;32m\"<ipython-input-1-299ff44beb53>\"\u001b[1;36m, line \u001b[1;32m2\u001b[0m\n\u001b[1;33m    lines f.readlines()\u001b[0m\n\u001b[1;37m          ^\u001b[0m\n\u001b[1;31mSyntaxError\u001b[0m\u001b[1;31m:\u001b[0m invalid syntax\n"
     ]
    }
   ],
   "source": [
    "with open('constitution.txt') as f:\n",
    "    lines f.readlines()\n",
    "text = \"\".join(lines)"
   ]
  },
  {
   "cell_type": "code",
   "execution_count": 3,
   "metadata": {},
   "outputs": [],
   "source": [
    "text=\"\""
   ]
  },
  {
   "cell_type": "code",
   "execution_count": 4,
   "metadata": {},
   "outputs": [],
   "source": [
    "with open('constitution.txt') as f:\n",
    "    lines=f.readlines()\n",
    "    "
   ]
  },
  {
   "cell_type": "code",
   "execution_count": 5,
   "metadata": {},
   "outputs": [
    {
     "data": {
      "text/plain": [
       "'\\n'"
      ]
     },
     "execution_count": 5,
     "metadata": {},
     "output_type": "execute_result"
    }
   ],
   "source": [
    "lines[1]\n"
   ]
  },
  {
   "cell_type": "code",
   "execution_count": 6,
   "metadata": {},
   "outputs": [
    {
     "data": {
      "text/plain": [
       "'Article. I.\\n'"
      ]
     },
     "execution_count": 6,
     "metadata": {},
     "output_type": "execute_result"
    }
   ],
   "source": [
    "lines[2]"
   ]
  },
  {
   "cell_type": "code",
   "execution_count": 8,
   "metadata": {},
   "outputs": [],
   "source": [
    "text=\"\".join(lines)"
   ]
  },
  {
   "cell_type": "code",
   "execution_count": 9,
   "metadata": {},
   "outputs": [
    {
     "data": {
      "text/plain": [
       "'e the People of the United States, in Order to form a more perfect Union, establish Justice, insure'"
      ]
     },
     "execution_count": 9,
     "metadata": {},
     "output_type": "execute_result"
    }
   ],
   "source": [
    "text[1:100]"
   ]
  },
  {
   "cell_type": "code",
   "execution_count": null,
   "metadata": {},
   "outputs": [],
   "source": [
    "import scikit\n",
    "\n"
   ]
  },
  {
   "cell_type": "code",
   "execution_count": null,
   "metadata": {},
   "outputs": [],
   "source": [
    "import sklearn"
   ]
  },
  {
   "cell_type": "code",
   "execution_count": 1,
   "metadata": {},
   "outputs": [
    {
     "ename": "ImportError",
     "evalue": "No module named 'scikit'",
     "output_type": "error",
     "traceback": [
      "\u001b[1;31m---------------------------------------------------------------------------\u001b[0m",
      "\u001b[1;31mImportError\u001b[0m                               Traceback (most recent call last)",
      "\u001b[1;32m<ipython-input-1-bd220ad29244>\u001b[0m in \u001b[0;36m<module>\u001b[1;34m()\u001b[0m\n\u001b[1;32m----> 1\u001b[1;33m \u001b[1;32mimport\u001b[0m \u001b[0mscikit\u001b[0m\u001b[1;33m\u001b[0m\u001b[0m\n\u001b[0m",
      "\u001b[1;31mImportError\u001b[0m: No module named 'scikit'"
     ]
    }
   ],
   "source": [
    "import scikit"
   ]
  },
  {
   "cell_type": "code",
   "execution_count": 4,
   "metadata": {},
   "outputs": [],
   "source": [
    "from sklearn.feature_extraction.text import CountVectorizer"
   ]
  },
  {
   "cell_type": "code",
   "execution_count": 7,
   "metadata": {},
   "outputs": [],
   "source": [
    "vectorizer = CountVectorizer()"
   ]
  },
  {
   "cell_type": "code",
   "execution_count": 11,
   "metadata": {},
   "outputs": [],
   "source": [
    "from openpyxl import Workbook"
   ]
  },
  {
   "cell_type": "code",
   "execution_count": 12,
   "metadata": {},
   "outputs": [],
   "source": [
    "import openpyxl"
   ]
  },
  {
   "cell_type": "code",
   "execution_count": 14,
   "metadata": {},
   "outputs": [],
   "source": [
    "book = openpyxl.load_workbook('Insights.xlsx')"
   ]
  },
  {
   "cell_type": "code",
   "execution_count": 15,
   "metadata": {},
   "outputs": [
    {
     "name": "stdout",
     "output_type": "stream",
     "text": [
      "['Sheet 1', 'May-July', 'I - Public Sector (MJJ) ', 'I - Fin Svcs (MJJ)', 'I - Health & LS (MJJ)', 'Channel (MJJ) ']\n"
     ]
    }
   ],
   "source": [
    "print( book.get_sheet_names() )"
   ]
  },
  {
   "cell_type": "code",
   "execution_count": 16,
   "metadata": {},
   "outputs": [],
   "source": [
    "sheet = book.active"
   ]
  },
  {
   "cell_type": "code",
   "execution_count": 19,
   "metadata": {},
   "outputs": [
    {
     "name": "stdout",
     "output_type": "stream",
     "text": [
      "Want to Learn More About\n"
     ]
    }
   ],
   "source": [
    "print(sheet.cell(row=9,column=13).value)"
   ]
  },
  {
   "cell_type": "code",
   "execution_count": 20,
   "metadata": {},
   "outputs": [
    {
     "name": "stdout",
     "output_type": "stream",
     "text": [
      "None\n",
      "None\n",
      "None\n",
      "List provided to Rep.\n",
      "OneView\n",
      "None\n",
      "None\n",
      "IoT gaps\n",
      "Tamr\n",
      "None\n",
      "None\n",
      "None\n",
      "None\n"
     ]
    }
   ],
   "source": [
    "for row in range(14,25):\n",
    "    print(sheet.cell(row=row,column=13).value)"
   ]
  },
  {
   "cell_type": "code",
   "execution_count": 22,
   "metadata": {},
   "outputs": [],
   "source": [
    "from sklearn.datasets import fetch_20newsgroups"
   ]
  },
  {
   "cell_type": "code",
   "execution_count": 23,
   "metadata": {},
   "outputs": [],
   "source": [
    "newsgroups_train = fetch_20newsgroups(subset='train')"
   ]
  },
  {
   "cell_type": "code",
   "execution_count": 24,
   "metadata": {},
   "outputs": [],
   "source": [
    "from pprint import pprint"
   ]
  },
  {
   "cell_type": "code",
   "execution_count": 25,
   "metadata": {},
   "outputs": [
    {
     "name": "stdout",
     "output_type": "stream",
     "text": [
      "['alt.atheism',\n",
      " 'comp.graphics',\n",
      " 'comp.os.ms-windows.misc',\n",
      " 'comp.sys.ibm.pc.hardware',\n",
      " 'comp.sys.mac.hardware',\n",
      " 'comp.windows.x',\n",
      " 'misc.forsale',\n",
      " 'rec.autos',\n",
      " 'rec.motorcycles',\n",
      " 'rec.sport.baseball',\n",
      " 'rec.sport.hockey',\n",
      " 'sci.crypt',\n",
      " 'sci.electronics',\n",
      " 'sci.med',\n",
      " 'sci.space',\n",
      " 'soc.religion.christian',\n",
      " 'talk.politics.guns',\n",
      " 'talk.politics.mideast',\n",
      " 'talk.politics.misc',\n",
      " 'talk.religion.misc']\n"
     ]
    }
   ],
   "source": [
    "pprint(list(newsgroups_train.target_names))"
   ]
  },
  {
   "cell_type": "code",
   "execution_count": 26,
   "metadata": {},
   "outputs": [
    {
     "ename": "AttributeError",
     "evalue": "'list' object has no attribute 'shape'",
     "output_type": "error",
     "traceback": [
      "\u001b[1;31m---------------------------------------------------------------------------\u001b[0m",
      "\u001b[1;31mAttributeError\u001b[0m                            Traceback (most recent call last)",
      "\u001b[1;32m<ipython-input-26-d14e1f7eaf03>\u001b[0m in \u001b[0;36m<module>\u001b[1;34m()\u001b[0m\n\u001b[1;32m----> 1\u001b[1;33m \u001b[0mnewsgroups_train\u001b[0m\u001b[1;33m.\u001b[0m\u001b[0mdata\u001b[0m\u001b[1;33m.\u001b[0m\u001b[0mshape\u001b[0m\u001b[1;33m\u001b[0m\u001b[0m\n\u001b[0m",
      "\u001b[1;31mAttributeError\u001b[0m: 'list' object has no attribute 'shape'"
     ]
    }
   ],
   "source": [
    "newsgroups_train.data.shape"
   ]
  },
  {
   "cell_type": "code",
   "execution_count": 27,
   "metadata": {},
   "outputs": [
    {
     "data": {
      "text/plain": [
       "11314"
      ]
     },
     "execution_count": 27,
     "metadata": {},
     "output_type": "execute_result"
    }
   ],
   "source": [
    "len(newsgroups_train.data)"
   ]
  },
  {
   "cell_type": "code",
   "execution_count": 28,
   "metadata": {},
   "outputs": [
    {
     "ename": "TypeError",
     "evalue": "'list' object is not callable",
     "output_type": "error",
     "traceback": [
      "\u001b[1;31m---------------------------------------------------------------------------\u001b[0m",
      "\u001b[1;31mTypeError\u001b[0m                                 Traceback (most recent call last)",
      "\u001b[1;32m<ipython-input-28-5051bda00a30>\u001b[0m in \u001b[0;36m<module>\u001b[1;34m()\u001b[0m\n\u001b[1;32m----> 1\u001b[1;33m \u001b[0mnewsgroups_train\u001b[0m\u001b[1;33m.\u001b[0m\u001b[0mdata\u001b[0m\u001b[1;33m(\u001b[0m\u001b[1;36m1\u001b[0m\u001b[1;33m)\u001b[0m\u001b[1;33m\u001b[0m\u001b[0m\n\u001b[0m",
      "\u001b[1;31mTypeError\u001b[0m: 'list' object is not callable"
     ]
    }
   ],
   "source": [
    "newsgroups_train.data(1)"
   ]
  },
  {
   "cell_type": "code",
   "execution_count": 31,
   "metadata": {},
   "outputs": [
    {
     "name": "stdout",
     "output_type": "stream",
     "text": [
      "('From: guykuo@carson.u.washington.edu (Guy Kuo)\\n'\n",
      " 'Subject: SI Clock Poll - Final Call\\n'\n",
      " 'Summary: Final call for SI clock reports\\n'\n",
      " 'Keywords: SI,acceleration,clock,upgrade\\n'\n",
      " 'Article-I.D.: shelley.1qvfo9INNc3s\\n'\n",
      " 'Organization: University of Washington\\n'\n",
      " 'Lines: 11\\n'\n",
      " 'NNTP-Posting-Host: carson.u.washington.edu\\n'\n",
      " '\\n'\n",
      " 'A fair number of brave souls who upgraded their SI clock oscillator have\\n'\n",
      " 'shared their experiences for this poll. Please send a brief message '\n",
      " 'detailing\\n'\n",
      " 'your experiences with the procedure. Top speed attained, CPU rated speed,\\n'\n",
      " 'add on cards and adapters, heat sinks, hour of usage per day, floppy disk\\n'\n",
      " 'functionality with 800 and 1.4 m floppies are especially requested.\\n'\n",
      " '\\n'\n",
      " 'I will be summarizing in the next two days, so please add to the network\\n'\n",
      " \"knowledge base if you have done the clock upgrade and haven't answered this\\n\"\n",
      " 'poll. Thanks.\\n'\n",
      " '\\n'\n",
      " 'Guy Kuo <guykuo@u.washington.edu>\\n')\n"
     ]
    }
   ],
   "source": [
    "pprint(newsgroups_train.data[1])"
   ]
  },
  {
   "cell_type": "code",
   "execution_count": 32,
   "metadata": {},
   "outputs": [
    {
     "data": {
      "text/plain": [
       "\"From: guykuo@carson.u.washington.edu (Guy Kuo)\\nSubject: SI Clock Poll - Final Call\\nSummary: Final call for SI clock reports\\nKeywords: SI,acceleration,clock,upgrade\\nArticle-I.D.: shelley.1qvfo9INNc3s\\nOrganization: University of Washington\\nLines: 11\\nNNTP-Posting-Host: carson.u.washington.edu\\n\\nA fair number of brave souls who upgraded their SI clock oscillator have\\nshared their experiences for this poll. Please send a brief message detailing\\nyour experiences with the procedure. Top speed attained, CPU rated speed,\\nadd on cards and adapters, heat sinks, hour of usage per day, floppy disk\\nfunctionality with 800 and 1.4 m floppies are especially requested.\\n\\nI will be summarizing in the next two days, so please add to the network\\nknowledge base if you have done the clock upgrade and haven't answered this\\npoll. Thanks.\\n\\nGuy Kuo <guykuo@u.washington.edu>\\n\""
      ]
     },
     "execution_count": 32,
     "metadata": {},
     "output_type": "execute_result"
    }
   ],
   "source": [
    "newsgroups_train.data[1]"
   ]
  },
  {
   "cell_type": "code",
   "execution_count": 33,
   "metadata": {},
   "outputs": [
    {
     "data": {
      "text/plain": [
       "array([7, 4, 4, ..., 3, 1, 8])"
      ]
     },
     "execution_count": 33,
     "metadata": {},
     "output_type": "execute_result"
    }
   ],
   "source": [
    "newsgroups_train.target"
   ]
  },
  {
   "cell_type": "code",
   "execution_count": 50,
   "metadata": {},
   "outputs": [
    {
     "name": "stdout",
     "output_type": "stream",
     "text": [
      "Flexible Capacity & Hybrid IT\n",
      "FC\n",
      "Azure Stack & Simplivity + FC\n",
      "None\n",
      "Seeq and thoughtspot\n",
      "The Machine\n",
      "Synergy\n",
      "Intelligent Edge\n",
      "OneView 4.0, new SPO strategy, SDX roadmap\n",
      "Newstack, IOT, Agile Environments\n",
      "Newstack is the key enabler \n",
      "Object Storage - but sadly this is supplier managed\n",
      "Agile - Again, not sure if this is possible with currently managed provider\n",
      "IOT Platforms\n",
      "None\n",
      "None\n",
      "Memory Driven Computing\n",
      "Gen Z, DMF Replication\n",
      "storage / Lustre Products DMF\n",
      "Data Management Framework\n",
      "Exa Scale 8 Security\n",
      "Synergy\n",
      "SimpliVity\n",
      "Pointnext\n",
      "None\n",
      "None\n",
      "None\n",
      "None\n",
      "None\n",
      "Project Phoenix simulation\n",
      "Intelligent/Edge offerings\n",
      "None\n",
      "None\n",
      "None\n",
      "None\n",
      "None\n",
      "None\n",
      "None\n",
      "None\n",
      "IntroSpect / Airwave\n",
      "ClearPass\n",
      "Pointnext\n",
      "None\n",
      "None\n",
      "Everything we covered was interesting. Immediately it would be the looking at the detail around a micro data centre. And introducing people to our specialists.\n",
      "Nimble, SimpliVity, Aruba\n",
      "PointNext Hyperconverge\n",
      "Synergy\n",
      "I will work with Stephanie.\n",
      "Gen-Z was very interesting\n",
      "SimpliVity, vCloud foundation, Synergy futures\n",
      "Data virtualization with SimpliVity\n",
      "SimpliVity and strategy\n",
      "None\n",
      "Ways we can leverage HPE and associated partners for managed services to quickly reply to client requests/needs and articulate the realm of possibility to our sales teams. \n",
      "Azure Stack\n",
      "None\n",
      "HPC\n",
      "Synergy\n",
      "Aruba\n",
      "Composable Infrastructure\n",
      "None\n",
      "Synergy\n",
      "Aruba Conference room, jamboard, clearpass technical implementation\n",
      "new stack\n",
      "The Machine\n",
      "None\n",
      "None\n",
      "Synergy, Simplivity, Azure Stack\n",
      "Synergy & Simplivity\n",
      "None\n",
      "None\n",
      "None\n",
      "None\n",
      "None\n",
      "None\n",
      "None\n",
      "None\n",
      "None\n",
      "None\n",
      "IoT\n",
      "Data Analytics\n",
      "Iot strategy\n",
      "None\n",
      "Synergy & Simplivity\n",
      "Synergy, Simplivity and Clearpass\n",
      "OneView\n",
      "Pointnext\n",
      "OneView\n",
      "None\n",
      "None\n",
      "Apollo 4000\n"
     ]
    }
   ],
   "source": [
    "for row in range(800,862):\n",
    "    val=sheet.cell(row=row,column=13).value\n",
    "    if (val is not None): print(val)"
   ]
  },
  {
   "cell_type": "code",
   "execution_count": 48,
   "metadata": {},
   "outputs": [
    {
     "ename": "SyntaxError",
     "evalue": "invalid syntax (<ipython-input-48-864fa8cd3a85>, line 1)",
     "output_type": "error",
     "traceback": [
      "\u001b[1;36m  File \u001b[1;32m\"<ipython-input-48-864fa8cd3a85>\"\u001b[1;36m, line \u001b[1;32m1\u001b[0m\n\u001b[1;33m    if (\"spam\"!=\"spam\"): print(\"not equal\") else print(\"equal\")\u001b[0m\n\u001b[1;37m                                               ^\u001b[0m\n\u001b[1;31mSyntaxError\u001b[0m\u001b[1;31m:\u001b[0m invalid syntax\n"
     ]
    }
   ],
   "source": [
    "if (\"spam\"!=\"spam\"): print(\"not equal\") else print(\"equal\")"
   ]
  },
  {
   "cell_type": "code",
   "execution_count": 54,
   "metadata": {},
   "outputs": [
    {
     "name": "stdout",
     "output_type": "stream",
     "text": [
      "None\n"
     ]
    }
   ],
   "source": [
    "val=sheet.cell(row=801,column=13).value\n",
    "print(val)"
   ]
  },
  {
   "cell_type": "code",
   "execution_count": 55,
   "metadata": {},
   "outputs": [
    {
     "name": "stdout",
     "output_type": "stream",
     "text": [
      "False\n"
     ]
    }
   ],
   "source": [
    "print(val==\"None\")"
   ]
  },
  {
   "cell_type": "code",
   "execution_count": 56,
   "metadata": {},
   "outputs": [
    {
     "ename": "TypeError",
     "evalue": "object of type 'NoneType' has no len()",
     "output_type": "error",
     "traceback": [
      "\u001b[1;31m---------------------------------------------------------------------------\u001b[0m",
      "\u001b[1;31mTypeError\u001b[0m                                 Traceback (most recent call last)",
      "\u001b[1;32m<ipython-input-56-4eba53d0a656>\u001b[0m in \u001b[0;36m<module>\u001b[1;34m()\u001b[0m\n\u001b[1;32m----> 1\u001b[1;33m \u001b[0mprint\u001b[0m\u001b[1;33m(\u001b[0m\u001b[0mlen\u001b[0m\u001b[1;33m(\u001b[0m\u001b[0mval\u001b[0m\u001b[1;33m)\u001b[0m\u001b[1;33m)\u001b[0m\u001b[1;33m\u001b[0m\u001b[0m\n\u001b[0m",
      "\u001b[1;31mTypeError\u001b[0m: object of type 'NoneType' has no len()"
     ]
    }
   ],
   "source": [
    "print(len(val))"
   ]
  },
  {
   "cell_type": "code",
   "execution_count": 57,
   "metadata": {},
   "outputs": [
    {
     "ename": "NameError",
     "evalue": "name 'NoneType' is not defined",
     "output_type": "error",
     "traceback": [
      "\u001b[1;31m---------------------------------------------------------------------------\u001b[0m",
      "\u001b[1;31mNameError\u001b[0m                                 Traceback (most recent call last)",
      "\u001b[1;32m<ipython-input-57-2f9c849deb11>\u001b[0m in \u001b[0;36m<module>\u001b[1;34m()\u001b[0m\n\u001b[1;32m----> 1\u001b[1;33m \u001b[0misinstance\u001b[0m\u001b[1;33m(\u001b[0m\u001b[0mval\u001b[0m\u001b[1;33m,\u001b[0m\u001b[0mNoneType\u001b[0m\u001b[1;33m)\u001b[0m\u001b[1;33m\u001b[0m\u001b[0m\n\u001b[0m",
      "\u001b[1;31mNameError\u001b[0m: name 'NoneType' is not defined"
     ]
    }
   ],
   "source": [
    "isinstance(val,NoneType)"
   ]
  },
  {
   "cell_type": "code",
   "execution_count": 61,
   "metadata": {},
   "outputs": [
    {
     "data": {
      "text/plain": [
       "False"
      ]
     },
     "execution_count": 61,
     "metadata": {},
     "output_type": "execute_result"
    }
   ],
   "source": [
    "type(val)==\"NoneType\""
   ]
  },
  {
   "cell_type": "code",
   "execution_count": null,
   "metadata": {},
   "outputs": [],
   "source": []
  },
  {
   "cell_type": "code",
   "execution_count": 67,
   "metadata": {},
   "outputs": [
    {
     "data": {
      "text/plain": [
       "NoneType"
      ]
     },
     "execution_count": 67,
     "metadata": {},
     "output_type": "execute_result"
    }
   ],
   "source": [
    "type(val)"
   ]
  },
  {
   "cell_type": "code",
   "execution_count": 69,
   "metadata": {},
   "outputs": [
    {
     "data": {
      "text/plain": [
       "False"
      ]
     },
     "execution_count": 69,
     "metadata": {},
     "output_type": "execute_result"
    }
   ],
   "source": [
    "type(val) is None"
   ]
  },
  {
   "cell_type": "code",
   "execution_count": 71,
   "metadata": {},
   "outputs": [
    {
     "name": "stdout",
     "output_type": "stream",
     "text": [
      "None\n"
     ]
    }
   ],
   "source": [
    "print(val)"
   ]
  },
  {
   "cell_type": "code",
   "execution_count": 72,
   "metadata": {},
   "outputs": [
    {
     "data": {
      "text/plain": [
       "NoneType"
      ]
     },
     "execution_count": 72,
     "metadata": {},
     "output_type": "execute_result"
    }
   ],
   "source": [
    "type(val)"
   ]
  },
  {
   "cell_type": "code",
   "execution_count": 75,
   "metadata": {},
   "outputs": [
    {
     "data": {
      "text/plain": [
       "False"
      ]
     },
     "execution_count": 75,
     "metadata": {},
     "output_type": "execute_result"
    }
   ],
   "source": [
    "val is not None"
   ]
  },
  {
   "cell_type": "code",
   "execution_count": 80,
   "metadata": {},
   "outputs": [],
   "source": [
    "learn_more_about=[]\n",
    "for row in range(11,862):\n",
    "    val=sheet.cell(row=row,column=13).value\n",
    "    if (val is not None): learn_more_about.append(val)"
   ]
  },
  {
   "cell_type": "code",
   "execution_count": 81,
   "metadata": {},
   "outputs": [
    {
     "data": {
      "text/plain": [
       "['List provided to Rep.\\nOneView',\n",
       " 'IoT gaps\\nTamr',\n",
       " 'Arista\\nAruba beacons\\nHPE aaS (HPe as a Service)\\nMobility\\nCRM\\nBroadband (WiFi)\\nBeacons',\n",
       " 'Mesosphere\\nMARA',\n",
       " \"Synergy, OneView, Aruba\\nAruba Mobility AP's\",\n",
       " 'BVD',\n",
       " \"One View, Simplivity\\nI'm a partner\",\n",
       " 'VDI\\nWe already have a plan!\\nMoonshot\\nSynergy',\n",
       " 'One View Intergration Vcenter',\n",
       " 'Aruba Cloud Managed Technology\\nAruba products and pros and cons when comparing to Meraki.']"
      ]
     },
     "execution_count": 81,
     "metadata": {},
     "output_type": "execute_result"
    }
   ],
   "source": [
    "learn_more_about[:10]"
   ]
  },
  {
   "cell_type": "code",
   "execution_count": 92,
   "metadata": {},
   "outputs": [],
   "source": [
    "from sklearn.feature_extraction.text import TfidfVectorizer\n",
    "from sklearn.feature_extraction.text import TfidfTransformer\n",
    "from sklearn.pipeline import make_pipeline\n",
    "vectorizer = TfidfVectorizer(max_df=0.5, max_features=500,\n",
    "                                 min_df=2, stop_words='english',\n",
    "                                 use_idf=1)\n",
    "X = vectorizer.fit_transform(learn_more_about)"
   ]
  },
  {
   "cell_type": "code",
   "execution_count": 93,
   "metadata": {},
   "outputs": [
    {
     "data": {
      "text/plain": [
       "(354, 322)"
      ]
     },
     "execution_count": 93,
     "metadata": {},
     "output_type": "execute_result"
    }
   ],
   "source": [
    "X.shape"
   ]
  },
  {
   "cell_type": "code",
   "execution_count": 97,
   "metadata": {},
   "outputs": [
    {
     "name": "stdout",
     "output_type": "stream",
     "text": [
      "Clustering sparse data with MiniBatchKMeans(batch_size=100, compute_labels=True, init='k-means++',\n",
      "        init_size=None, max_iter=100, max_no_improvement=10, n_clusters=20,\n",
      "        n_init=3, random_state=None, reassignment_ratio=0.01, tol=0.0,\n",
      "        verbose=True)\n",
      "Init 1/3 with method: k-means++\n",
      "Inertia for init 1/3: 221.514950\n",
      "Init 2/3 with method: k-means++\n",
      "Inertia for init 2/3: 228.826074\n",
      "Init 3/3 with method: k-means++\n",
      "Inertia for init 3/3: 196.553524\n",
      "Minibatch iteration 1/400: mean batch inertia: 0.724459, ewa inertia: 0.724459 \n",
      "Minibatch iteration 2/400: mean batch inertia: 0.695373, ewa inertia: 0.708072 \n",
      "Minibatch iteration 3/400: mean batch inertia: 0.675591, ewa inertia: 0.689773 \n",
      "Minibatch iteration 4/400: mean batch inertia: 0.693073, ewa inertia: 0.691632 \n",
      "Minibatch iteration 5/400: mean batch inertia: 0.738643, ewa inertia: 0.718117 \n",
      "Minibatch iteration 6/400: mean batch inertia: 0.699419, ewa inertia: 0.707583 \n",
      "Minibatch iteration 7/400: mean batch inertia: 0.703935, ewa inertia: 0.705528 \n",
      "Minibatch iteration 8/400: mean batch inertia: 0.691190, ewa inertia: 0.697450 \n",
      "Minibatch iteration 9/400: mean batch inertia: 0.697409, ewa inertia: 0.697427 \n",
      "Minibatch iteration 10/400: mean batch inertia: 0.696649, ewa inertia: 0.696989 \n",
      "Minibatch iteration 11/400: mean batch inertia: 0.724209, ewa inertia: 0.712324 \n",
      "Minibatch iteration 12/400: mean batch inertia: 0.692577, ewa inertia: 0.701199 \n",
      "Minibatch iteration 13/400: mean batch inertia: 0.687686, ewa inertia: 0.693586 \n",
      "Converged (lack of improvement in inertia) at iteration 13/400\n",
      "Computing label assignment and total inertia\n",
      "done in 0.090s\n",
      "\n"
     ]
    }
   ],
   "source": [
    "from sklearn.cluster import MiniBatchKMeans\n",
    "from time import time\n",
    "\n",
    "km = MiniBatchKMeans(n_clusters=20, init='k-means++', n_init=3, verbose=True)\n",
    "print(\"Clustering sparse data with %s\" % km)\n",
    "t0 = time()\n",
    "km.fit(X)\n",
    "print(\"done in %0.3fs\" % (time() - t0))\n",
    "print()"
   ]
  },
  {
   "cell_type": "code",
   "execution_count": 99,
   "metadata": {},
   "outputs": [
    {
     "name": "stdout",
     "output_type": "stream",
     "text": [
      "Top terms per cluster:\n",
      "Cluster 0: hybrid stack cloud superdome new smart solutions edgeline pathfinder apollo\n",
      "Cluster 1: pointnext simplivity nimble hybrid services synergy futures roadmap migration aruba\n",
      "Cluster 2: iot aruba synergy solution management edge solutions simplivity edgeline partnerships\n",
      "Cluster 3: aruba clearpass virtualization hyperconverged synergy 3par beacons meraki computing edge\n",
      "Cluster 4: synergy hpe 10 gen cloud aruba blade azure hp superdome\n",
      "Cluster 5: machine learning docker data action list covered analytics service cases\n",
      "Cluster 6: computing memory driven future hardware architecture technology fintech technologies high\n",
      "Cluster 7: flexible capacity flex follow items synergy hybrid cloud pointnext edge\n",
      "Cluster 8: oneview synergy new software firmware stack defined automation 10 list\n",
      "Cluster 9: data big iot analytics hana openstack sap digital aruba technology\n",
      "Cluster 10: analytics solutions intelligent airwave storage networking data security insight nimble\n",
      "Cluster 11: clearpass meridian niara airwave beacon aruba universal synergy smart solutions\n",
      "Cluster 12: simplivity synergy azure stack aruba 3par nimble clearpass solutions scality\n",
      "Cluster 13: nimble simplivity synergy think scality covered learning 3par storage futures\n",
      "Cluster 14: moonshot synergy hp oneview edgeline 3par vdi nimble apollo innovation\n",
      "Cluster 15: wan sd imc customers topics key overall discussion firmware facilities\n",
      "Cluster 16: discussed meeting flex capcity carl action list follow stack hpe\n",
      "Cluster 17: composable nsx infrastructure hyperconverged architecture storage computing simplivity security hpc\n",
      "Cluster 18: services hpe hana sap cloud migration 3par aruba readiness cruiser\n",
      "Cluster 19: studies case training ways leverage work line product platform edgeline\n"
     ]
    }
   ],
   "source": [
    "print(\"Top terms per cluster:\")\n",
    "order_centroids = km.cluster_centers_.argsort()[:, ::-1]\n",
    "terms = vectorizer.get_feature_names()\n",
    "for i in range(20):\n",
    "    print(\"Cluster %d:\" % i, end='')\n",
    "    for ind in order_centroids[i, :10]:\n",
    "        print(' %s' % terms[ind], end='')\n",
    "    print()"
   ]
  },
  {
   "cell_type": "code",
   "execution_count": null,
   "metadata": {},
   "outputs": [],
   "source": []
  }
 ],
 "metadata": {
  "kernelspec": {
   "display_name": "Python 3",
   "language": "python",
   "name": "python3"
  },
  "language_info": {
   "codemirror_mode": {
    "name": "ipython",
    "version": 3
   },
   "file_extension": ".py",
   "mimetype": "text/x-python",
   "name": "python",
   "nbconvert_exporter": "python",
   "pygments_lexer": "ipython3",
   "version": "3.5.2"
  }
 },
 "nbformat": 4,
 "nbformat_minor": 2
}
